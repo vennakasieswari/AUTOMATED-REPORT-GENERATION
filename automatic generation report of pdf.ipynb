{
 "cells": [
  {
   "cell_type": "markdown",
   "metadata": {
    "id": "Eqda0DtCUe0P"
   },
   "source": [
    "# AUTOMATIC REPORT GENERATED #"
   ]
  },
  {
   "cell_type": "code",
   "execution_count": null,
   "metadata": {
    "id": "H_uWjTtrITS1"
   },
   "outputs": [],
   "source": [
    "# prompt: automatic generated report with pdf\n",
    "\n",
    "!pip install fpdf\n",
    "\n",
    "from fpdf import FPDF\n",
    "\n",
    "def create_report(filename=\"report.pdf\", title=\"Generated Report\", content=\"This is a sample report.\"):\n",
    "    \"\"\"\n",
    "    Generates a simple PDF report.\n",
    "\n",
    "    Args:\n",
    "        filename (str): The name of the output PDF file.\n",
    "        title (str): The title of the report.\n",
    "        content (str): The content of the report.\n",
    "    \"\"\"\n",
    "    pdf = FPDF()\n",
    "    pdf.add_page()\n",
    "    pdf.set_font(\"Arial\", size=12)\n",
    "\n",
    "    # Add title\n",
    "    pdf.set_font(\"Arial\", 'B', 16)\n",
    "    pdf.cell(200, 10, txt=title, ln=True, align='C')\n",
    "\n",
    "    # Add content\n",
    "    pdf.set_font(\"Arial\", size=12)\n",
    "    pdf.multi_cell(0, 10, txt=content)\n",
    "\n",
    "    pdf.output(filename)\n",
    "    print(f\"Report '{filename}' created successfully.\")\n",
    "\n",
    "# Example usage:\n",
    "# create_report(filename=\"my_report.pdf\", title=\"Project Status Update\", content=\"Here are the key updates for the project...\")"
   ]
  },
  {
   "cell_type": "markdown",
   "metadata": {
    "id": "tNG7eTfJUdgZ"
   },
   "source": []
  },
  {
   "cell_type": "code",
   "execution_count": null,
   "metadata": {
    "id": "700cddfd"
   },
   "outputs": [],
   "source": [
    "create_report(filename=\"my_report.pdf\", title=\"Project Status Update\", content=\"Here are the key updates for the project...\")"
   ]
  },
  {
   "cell_type": "code",
   "execution_count": null,
   "metadata": {
    "id": "mrSK7gQYJTi2"
   },
   "outputs": [],
   "source": [
    "from fpdf import FPDF"
   ]
  },
  {
   "cell_type": "code",
   "execution_count": null,
   "metadata": {
    "id": "BxSuZUDxMGHP"
   },
   "outputs": [],
   "source": [
    "pdf = FPDF()\n",
    "pdf.add_page()\n",
    "pdf.set_font(\"Arial\", size=12)\n",
    "pdf.cell(200, 10, txt=\"Hello World!\", ln=True, align='C')\n",
    "pdf.output(\"hello.pdf\")"
   ]
  },
  {
   "cell_type": "code",
   "execution_count": null,
   "metadata": {
    "id": "h-pBU0sxMicE"
   },
   "outputs": [],
   "source": [
    "import pandas as pd\n",
    "\n",
    "# Placeholder for sp500_history. Replace with your actual data loading/processing code.\n",
    "sp500_history = pd.DataFrame({\n",
    "    'Date': pd.to_datetime(['2023-01-01', '2023-01-02', '2023-01-03', '2023-01-04', '2023-01-05']),\n",
    "    'Open': [3800.0, 3810.0, 3820.0, 3830.0, 3840.0],\n",
    "    'High': [3805.0, 3815.0, 3825.0, 3835.0, 3845.0],\n",
    "    'Low': [3795.0, 3805.0, 3815.0, 3825.0, 3835.0],\n",
    "    'Close': [3810.0, 3820.0, 3830.0, 3840.0, 3850.0],\n",
    "    'Volume': [1000000, 1100000, 1200000, 1300000, 1400000]\n",
    "})\n",
    "\n",
    "sp500_history_pdf = sp500_history.reset_index()\n",
    "sp500_history_pdf['Date'] = sp500_history_pdf['Date'].astype(str)\n",
    "numeric_cols = sp500_history_pdf.select_dtypes(include=['number']).columns\n",
    "sp500_history_pdf[numeric_cols] = sp500_history_pdf[numeric_cols].round(2)\n",
    "# Assuming 'pdf' object is available from a previous cell\n",
    "# output_df_to_pdf(pdf, sp500_history_pdf.tail(3)) # This line is commented out as output_df_to_pdf is also not defined"
   ]
  },
  {
   "cell_type": "code",
   "execution_count": null,
   "metadata": {
    "id": "22226f42"
   },
   "outputs": [],
   "source": [
    "# prompt: automatic generated report data visualizations\n",
    "\n",
    "!pip install matplotlib seaborn\n",
    "\n",
    "import matplotlib.pyplot as plt\n",
    "import seaborn as sns\n",
    "import io\n",
    "import base64\n",
    "import os # Import the os module for file operations\n",
    "from fpdf import FPDF # Import FPDF\n",
    "\n",
    "def add_plot_to_pdf(pdf, fig):\n",
    "    \"\"\"\n",
    "    Adds a matplotlib figure as an image to a FPDF object by saving to a temporary file.\n",
    "\n",
    "    Args:\n",
    "        pdf (FPDF): The FPDF object to add the image to.\n",
    "        fig (matplotlib.figure.Figure): The figure to add.\n",
    "    \"\"\"\n",
    "    # Save the figure to a temporary file\n",
    "    img_filename = \"temp_plot.png\"\n",
    "    fig.savefig(img_filename, format='png')\n",
    "\n",
    "    # Add the image from the file to the PDF\n",
    "    pdf.image(img_filename, x=10, y=pdf.get_y(), w=180) # Adjust x, y, w as needed\n",
    "    pdf.ln(pdf.get_y() + 10) # Move cursor down after the image\n",
    "\n",
    "    # Remove the temporary file\n",
    "    os.remove(img_filename)\n",
    "\n",
    "\n",
    "# Example usage:\n",
    "# Assuming sp500_history DataFrame is defined in a previous cell\n",
    "# import pandas as pd\n",
    "# sp500_history = pd.DataFrame({\n",
    "#     'Date': pd.to_datetime(['2023-01-01', '2023-01-02', '2023-01-03', '2023-01-04', '2023-01-05']),\n",
    "#     'Close': [3810.0, 3820.0, 3830.0, 3840.0, 3850.0]\n",
    "# })\n",
    "\n",
    "\n",
    "# Generate a plot\n",
    "plt.figure(figsize=(10, 6))\n",
    "sns.lineplot(x='Date', y='Close', data=sp500_history)\n",
    "plt.title('S&P 500 Close Price History')\n",
    "plt.xlabel('Date')\n",
    "plt.ylabel('Close Price')\n",
    "plt.xticks(rotation=45)\n",
    "plt.tight_layout()\n",
    "plot_fig = plt.gcf()\n",
    "\n",
    "# Create a new PDF or use an existing one\n",
    "pdf = FPDF()\n",
    "pdf.add_page()\n",
    "pdf.set_font(\"Arial\", size=12)\n",
    "\n",
    "# Add the plot to the PDF\n",
    "add_plot_to_pdf(pdf, plot_fig)\n",
    "\n",
    "# Add some text content after the plot\n",
    "pdf.multi_cell(0, 10, txt=\"This is a line plot showing the S&P 500 close price over time.\")\n",
    "\n",
    "# Save the PDF\n",
    "pdf.output(\"report_with_plot.pdf\")\n",
    "print(\"Report 'report_with_plot.pdf' created successfully with a plot.\")\n",
    "\n",
    "plt.close(plot_fig) # Close the figure to free up memory"
   ]
  }
 ],
 "metadata": {
  "colab": {
   "authorship_tag": "ABX9TyNfMyV7GfQqZEobiBAXLq2e",
   "private_outputs": true,
   "provenance": []
  },
  "kernelspec": {
   "display_name": "Python 3",
   "name": "python3"
  },
  "language_info": {
   "name": "python"
  }
 },
 "nbformat": 4,
 "nbformat_minor": 0
}
